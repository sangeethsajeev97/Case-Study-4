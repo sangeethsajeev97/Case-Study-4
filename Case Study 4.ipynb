{
 "cells": [
  {
   "cell_type": "code",
   "execution_count": 7,
   "id": "449357ce",
   "metadata": {
    "scrolled": true
   },
   "outputs": [],
   "source": [
    "import pandas as pd\n",
    "import numpy as np\n",
    "import researchpy as rp\n",
    "import scipy.stats as stats\n",
    "import scipy as sc"
   ]
  },
  {
   "cell_type": "code",
   "execution_count": 8,
   "id": "f5897973",
   "metadata": {},
   "outputs": [],
   "source": [
    "data= pd.read_csv('D:\\\\DSA\\Python\\\\Case Study 4\\\\Sales_add.csv')"
   ]
  },
  {
   "cell_type": "code",
   "execution_count": 9,
   "id": "416ab4b9",
   "metadata": {
    "scrolled": true
   },
   "outputs": [
    {
     "name": "stdout",
     "output_type": "stream",
     "text": [
      "Requirement already satisfied: researchpy in c:\\users\\adrash\\anaconda3\\lib\\site-packages (0.3.2)\n",
      "Requirement already satisfied: pandas in c:\\users\\adrash\\anaconda3\\lib\\site-packages (from researchpy) (1.2.4)\n",
      "Requirement already satisfied: statsmodels in c:\\users\\adrash\\anaconda3\\lib\\site-packages (from researchpy) (0.12.2)\n",
      "Requirement already satisfied: numpy in c:\\users\\adrash\\anaconda3\\lib\\site-packages (from researchpy) (1.20.1)\n",
      "Requirement already satisfied: scipy in c:\\users\\adrash\\anaconda3\\lib\\site-packages (from researchpy) (1.6.2)\n",
      "Requirement already satisfied: patsy in c:\\users\\adrash\\anaconda3\\lib\\site-packages (from researchpy) (0.5.1)\n",
      "Requirement already satisfied: python-dateutil>=2.7.3 in c:\\users\\adrash\\anaconda3\\lib\\site-packages (from pandas->researchpy) (2.8.1)\n",
      "Requirement already satisfied: pytz>=2017.3 in c:\\users\\adrash\\anaconda3\\lib\\site-packages (from pandas->researchpy) (2021.1)\n",
      "Requirement already satisfied: six>=1.5 in c:\\users\\adrash\\anaconda3\\lib\\site-packages (from python-dateutil>=2.7.3->pandas->researchpy) (1.15.0)\n",
      "Note: you may need to restart the kernel to use updated packages.\n"
     ]
    }
   ],
   "source": [
    "pip install researchpy"
   ]
  },
  {
   "cell_type": "markdown",
   "id": "cb4489ce",
   "metadata": {},
   "source": [
    "# The company wishes to clarify whether there is any increase in sales after stepping into digital marketing"
   ]
  },
  {
   "cell_type": "code",
   "execution_count": 11,
   "id": "471f5ffd",
   "metadata": {
    "scrolled": true
   },
   "outputs": [
    {
     "data": {
      "text/html": [
       "<div>\n",
       "<style scoped>\n",
       "    .dataframe tbody tr th:only-of-type {\n",
       "        vertical-align: middle;\n",
       "    }\n",
       "\n",
       "    .dataframe tbody tr th {\n",
       "        vertical-align: top;\n",
       "    }\n",
       "\n",
       "    .dataframe thead th {\n",
       "        text-align: right;\n",
       "    }\n",
       "</style>\n",
       "<table border=\"1\" class=\"dataframe\">\n",
       "  <thead>\n",
       "    <tr style=\"text-align: right;\">\n",
       "      <th></th>\n",
       "      <th>Month</th>\n",
       "      <th>Region</th>\n",
       "      <th>Manager</th>\n",
       "      <th>Sales_before_digital_add(in $)</th>\n",
       "      <th>Sales_After_digital_add(in $)</th>\n",
       "    </tr>\n",
       "  </thead>\n",
       "  <tbody>\n",
       "    <tr>\n",
       "      <th>0</th>\n",
       "      <td>Month-1</td>\n",
       "      <td>Region - A</td>\n",
       "      <td>Manager - A</td>\n",
       "      <td>132921</td>\n",
       "      <td>270390</td>\n",
       "    </tr>\n",
       "    <tr>\n",
       "      <th>1</th>\n",
       "      <td>Month-2</td>\n",
       "      <td>Region - A</td>\n",
       "      <td>Manager - C</td>\n",
       "      <td>149559</td>\n",
       "      <td>223334</td>\n",
       "    </tr>\n",
       "    <tr>\n",
       "      <th>2</th>\n",
       "      <td>Month-3</td>\n",
       "      <td>Region - B</td>\n",
       "      <td>Manager - A</td>\n",
       "      <td>146278</td>\n",
       "      <td>244243</td>\n",
       "    </tr>\n",
       "    <tr>\n",
       "      <th>3</th>\n",
       "      <td>Month-4</td>\n",
       "      <td>Region - B</td>\n",
       "      <td>Manager - B</td>\n",
       "      <td>152167</td>\n",
       "      <td>231808</td>\n",
       "    </tr>\n",
       "    <tr>\n",
       "      <th>4</th>\n",
       "      <td>Month-5</td>\n",
       "      <td>Region - C</td>\n",
       "      <td>Manager - B</td>\n",
       "      <td>159525</td>\n",
       "      <td>258402</td>\n",
       "    </tr>\n",
       "    <tr>\n",
       "      <th>5</th>\n",
       "      <td>Month-6</td>\n",
       "      <td>Region - A</td>\n",
       "      <td>Manager - B</td>\n",
       "      <td>137163</td>\n",
       "      <td>256948</td>\n",
       "    </tr>\n",
       "    <tr>\n",
       "      <th>6</th>\n",
       "      <td>Month-7</td>\n",
       "      <td>Region - C</td>\n",
       "      <td>Manager - C</td>\n",
       "      <td>130625</td>\n",
       "      <td>222106</td>\n",
       "    </tr>\n",
       "    <tr>\n",
       "      <th>7</th>\n",
       "      <td>Month-8</td>\n",
       "      <td>Region - A</td>\n",
       "      <td>Manager - A</td>\n",
       "      <td>131140</td>\n",
       "      <td>230637</td>\n",
       "    </tr>\n",
       "    <tr>\n",
       "      <th>8</th>\n",
       "      <td>Month-9</td>\n",
       "      <td>Region - B</td>\n",
       "      <td>Manager - C</td>\n",
       "      <td>171259</td>\n",
       "      <td>226261</td>\n",
       "    </tr>\n",
       "    <tr>\n",
       "      <th>9</th>\n",
       "      <td>Month-10</td>\n",
       "      <td>Region - C</td>\n",
       "      <td>Manager - B</td>\n",
       "      <td>141956</td>\n",
       "      <td>193735</td>\n",
       "    </tr>\n",
       "  </tbody>\n",
       "</table>\n",
       "</div>"
      ],
      "text/plain": [
       "      Month      Region      Manager  Sales_before_digital_add(in $)  \\\n",
       "0   Month-1  Region - A  Manager - A                          132921   \n",
       "1   Month-2  Region - A  Manager - C                          149559   \n",
       "2   Month-3  Region - B  Manager - A                          146278   \n",
       "3   Month-4  Region - B  Manager - B                          152167   \n",
       "4   Month-5  Region - C  Manager - B                          159525   \n",
       "5   Month-6  Region - A  Manager - B                          137163   \n",
       "6   Month-7  Region - C  Manager - C                          130625   \n",
       "7   Month-8  Region - A  Manager - A                          131140   \n",
       "8   Month-9  Region - B  Manager - C                          171259   \n",
       "9  Month-10  Region - C  Manager - B                          141956   \n",
       "\n",
       "   Sales_After_digital_add(in $)  \n",
       "0                         270390  \n",
       "1                         223334  \n",
       "2                         244243  \n",
       "3                         231808  \n",
       "4                         258402  \n",
       "5                         256948  \n",
       "6                         222106  \n",
       "7                         230637  \n",
       "8                         226261  \n",
       "9                         193735  "
      ]
     },
     "execution_count": 11,
     "metadata": {},
     "output_type": "execute_result"
    }
   ],
   "source": [
    "data.head(10)"
   ]
  },
  {
   "cell_type": "code",
   "execution_count": 12,
   "id": "af5e04bc",
   "metadata": {},
   "outputs": [
    {
     "data": {
      "text/plain": [
       "Month                             0\n",
       "Region                            0\n",
       "Manager                           0\n",
       "Sales_before_digital_add(in $)    0\n",
       "Sales_After_digital_add(in $)     0\n",
       "dtype: int64"
      ]
     },
     "execution_count": 12,
     "metadata": {},
     "output_type": "execute_result"
    }
   ],
   "source": [
    "data.isna().sum()"
   ]
  },
  {
   "cell_type": "code",
   "execution_count": 13,
   "id": "3f31098c",
   "metadata": {
    "scrolled": false
   },
   "outputs": [
    {
     "data": {
      "text/html": [
       "<div>\n",
       "<style scoped>\n",
       "    .dataframe tbody tr th:only-of-type {\n",
       "        vertical-align: middle;\n",
       "    }\n",
       "\n",
       "    .dataframe tbody tr th {\n",
       "        vertical-align: top;\n",
       "    }\n",
       "\n",
       "    .dataframe thead th {\n",
       "        text-align: right;\n",
       "    }\n",
       "</style>\n",
       "<table border=\"1\" class=\"dataframe\">\n",
       "  <thead>\n",
       "    <tr style=\"text-align: right;\">\n",
       "      <th></th>\n",
       "      <th>Sales_before_digital_add(in $)</th>\n",
       "      <th>Sales_After_digital_add(in $)</th>\n",
       "    </tr>\n",
       "  </thead>\n",
       "  <tbody>\n",
       "    <tr>\n",
       "      <th>count</th>\n",
       "      <td>22.000000</td>\n",
       "      <td>22.000000</td>\n",
       "    </tr>\n",
       "    <tr>\n",
       "      <th>mean</th>\n",
       "      <td>149239.954545</td>\n",
       "      <td>231123.727273</td>\n",
       "    </tr>\n",
       "    <tr>\n",
       "      <th>std</th>\n",
       "      <td>14844.042921</td>\n",
       "      <td>25556.777061</td>\n",
       "    </tr>\n",
       "    <tr>\n",
       "      <th>min</th>\n",
       "      <td>130263.000000</td>\n",
       "      <td>187305.000000</td>\n",
       "    </tr>\n",
       "    <tr>\n",
       "      <th>25%</th>\n",
       "      <td>138087.750000</td>\n",
       "      <td>214960.750000</td>\n",
       "    </tr>\n",
       "    <tr>\n",
       "      <th>50%</th>\n",
       "      <td>147444.000000</td>\n",
       "      <td>229986.500000</td>\n",
       "    </tr>\n",
       "    <tr>\n",
       "      <th>75%</th>\n",
       "      <td>157627.500000</td>\n",
       "      <td>250909.000000</td>\n",
       "    </tr>\n",
       "    <tr>\n",
       "      <th>max</th>\n",
       "      <td>178939.000000</td>\n",
       "      <td>276279.000000</td>\n",
       "    </tr>\n",
       "  </tbody>\n",
       "</table>\n",
       "</div>"
      ],
      "text/plain": [
       "       Sales_before_digital_add(in $)  Sales_After_digital_add(in $)\n",
       "count                       22.000000                      22.000000\n",
       "mean                    149239.954545                  231123.727273\n",
       "std                      14844.042921                   25556.777061\n",
       "min                     130263.000000                  187305.000000\n",
       "25%                     138087.750000                  214960.750000\n",
       "50%                     147444.000000                  229986.500000\n",
       "75%                     157627.500000                  250909.000000\n",
       "max                     178939.000000                  276279.000000"
      ]
     },
     "execution_count": 13,
     "metadata": {},
     "output_type": "execute_result"
    }
   ],
   "source": [
    "data.describe()"
   ]
  },
  {
   "cell_type": "code",
   "execution_count": 14,
   "id": "a3d73aeb",
   "metadata": {},
   "outputs": [],
   "source": [
    "#Null Hypothesis:H0:There is increase in sales after stepping into digital marketing\n",
    "#Alternative Hypothesis:H1:There is no increase in sales after stepping into digital marketing"
   ]
  },
  {
   "cell_type": "code",
   "execution_count": 15,
   "id": "3199a763",
   "metadata": {
    "scrolled": true
   },
   "outputs": [
    {
     "data": {
      "text/plain": [
       "0     132921\n",
       "1     149559\n",
       "2     146278\n",
       "3     152167\n",
       "4     159525\n",
       "5     137163\n",
       "6     130625\n",
       "7     131140\n",
       "8     171259\n",
       "9     141956\n",
       "10    159339\n",
       "11    178939\n",
       "12    145062\n",
       "13    151514\n",
       "14    147463\n",
       "15    177195\n",
       "16    140862\n",
       "17    167996\n",
       "18    132135\n",
       "19    152493\n",
       "20    147425\n",
       "21    130263\n",
       "Name: Sales_before_digital_add(in $), dtype: int64"
      ]
     },
     "execution_count": 15,
     "metadata": {},
     "output_type": "execute_result"
    }
   ],
   "source": [
    "data_sales_before = data[\"Sales_before_digital_add(in $)\"]\n",
    "data_sales_before"
   ]
  },
  {
   "cell_type": "code",
   "execution_count": 16,
   "id": "553f2e38",
   "metadata": {},
   "outputs": [
    {
     "data": {
      "text/plain": [
       "0     270390\n",
       "1     223334\n",
       "2     244243\n",
       "3     231808\n",
       "4     258402\n",
       "5     256948\n",
       "6     222106\n",
       "7     230637\n",
       "8     226261\n",
       "9     193735\n",
       "10    203175\n",
       "11    276279\n",
       "12    205180\n",
       "13    253131\n",
       "14    229336\n",
       "15    187305\n",
       "16    234908\n",
       "17    191517\n",
       "18    227040\n",
       "19    212579\n",
       "20    263388\n",
       "21    243020\n",
       "Name: Sales_After_digital_add(in $), dtype: int64"
      ]
     },
     "execution_count": 16,
     "metadata": {},
     "output_type": "execute_result"
    }
   ],
   "source": [
    "data_sales_after = data[\"Sales_After_digital_add(in $)\"]\n",
    "data_sales_after\n"
   ]
  },
  {
   "cell_type": "code",
   "execution_count": 23,
   "id": "6ca4863d",
   "metadata": {},
   "outputs": [
    {
     "data": {
      "text/plain": [
       "-12.995084451110877"
      ]
     },
     "execution_count": 23,
     "metadata": {},
     "output_type": "execute_result"
    }
   ],
   "source": [
    "tval,pval = stats.ttest_ind(data_sales_before,data_sales_after)\n",
    "tval"
   ]
  },
  {
   "cell_type": "code",
   "execution_count": 18,
   "id": "5349760a",
   "metadata": {},
   "outputs": [
    {
     "data": {
      "text/plain": [
       "2.614368006904645e-16"
      ]
     },
     "execution_count": 18,
     "metadata": {},
     "output_type": "execute_result"
    }
   ],
   "source": [
    "pval\n"
   ]
  },
  {
   "cell_type": "code",
   "execution_count": 27,
   "id": "1c78f919",
   "metadata": {},
   "outputs": [
    {
     "data": {
      "text/plain": [
       "42"
      ]
     },
     "execution_count": 27,
     "metadata": {},
     "output_type": "execute_result"
    }
   ],
   "source": [
    "#dof\n",
    "data_sales_before.count()+data_sales_after.count()-2"
   ]
  },
  {
   "cell_type": "code",
   "execution_count": 29,
   "id": "6eb95ad6",
   "metadata": {},
   "outputs": [
    {
     "data": {
      "text/plain": [
       "1.6819523559426"
      ]
     },
     "execution_count": 29,
     "metadata": {},
     "output_type": "execute_result"
    }
   ],
   "source": [
    "tcriteria=stats.t.ppf(1-0.05,42)\n",
    "tcriteria"
   ]
  },
  {
   "cell_type": "code",
   "execution_count": 33,
   "id": "78ab2d6c",
   "metadata": {},
   "outputs": [
    {
     "name": "stdout",
     "output_type": "stream",
     "text": [
      "Failed to accept H0\n"
     ]
    }
   ],
   "source": [
    "if(tval>tcriteria and pvalue<0.05):\n",
    "    print(\"Reject H0\")\n",
    "else:\n",
    "    print(\"Failed to accept H0\")"
   ]
  },
  {
   "cell_type": "code",
   "execution_count": 37,
   "id": "91d75765",
   "metadata": {
    "scrolled": false
   },
   "outputs": [
    {
     "data": {
      "text/html": [
       "<div>\n",
       "<style scoped>\n",
       "    .dataframe tbody tr th:only-of-type {\n",
       "        vertical-align: middle;\n",
       "    }\n",
       "\n",
       "    .dataframe tbody tr th {\n",
       "        vertical-align: top;\n",
       "    }\n",
       "\n",
       "    .dataframe thead th {\n",
       "        text-align: right;\n",
       "    }\n",
       "</style>\n",
       "<table border=\"1\" class=\"dataframe\">\n",
       "  <thead>\n",
       "    <tr style=\"text-align: right;\">\n",
       "      <th></th>\n",
       "      <th>Variable</th>\n",
       "      <th>Outcome</th>\n",
       "      <th>Count</th>\n",
       "      <th>Percent</th>\n",
       "    </tr>\n",
       "  </thead>\n",
       "  <tbody>\n",
       "    <tr>\n",
       "      <th>0</th>\n",
       "      <td>Region</td>\n",
       "      <td>Region - A</td>\n",
       "      <td>10</td>\n",
       "      <td>45.45</td>\n",
       "    </tr>\n",
       "    <tr>\n",
       "      <th>1</th>\n",
       "      <td></td>\n",
       "      <td>Region - B</td>\n",
       "      <td>7</td>\n",
       "      <td>31.82</td>\n",
       "    </tr>\n",
       "    <tr>\n",
       "      <th>2</th>\n",
       "      <td></td>\n",
       "      <td>Region - C</td>\n",
       "      <td>5</td>\n",
       "      <td>22.73</td>\n",
       "    </tr>\n",
       "    <tr>\n",
       "      <th>3</th>\n",
       "      <td>Manager</td>\n",
       "      <td>Manager - A</td>\n",
       "      <td>9</td>\n",
       "      <td>40.91</td>\n",
       "    </tr>\n",
       "    <tr>\n",
       "      <th>4</th>\n",
       "      <td></td>\n",
       "      <td>Manager - B</td>\n",
       "      <td>7</td>\n",
       "      <td>31.82</td>\n",
       "    </tr>\n",
       "    <tr>\n",
       "      <th>5</th>\n",
       "      <td></td>\n",
       "      <td>Manager - C</td>\n",
       "      <td>6</td>\n",
       "      <td>27.27</td>\n",
       "    </tr>\n",
       "  </tbody>\n",
       "</table>\n",
       "</div>"
      ],
      "text/plain": [
       "  Variable      Outcome  Count  Percent\n",
       "0   Region   Region - A     10    45.45\n",
       "1            Region - B      7    31.82\n",
       "2            Region - C      5    22.73\n",
       "3  Manager  Manager - A      9    40.91\n",
       "4           Manager - B      7    31.82\n",
       "5           Manager - C      6    27.27"
      ]
     },
     "execution_count": 37,
     "metadata": {},
     "output_type": "execute_result"
    }
   ],
   "source": [
    "rp.summary_cat(data[[\"Region\", \"Manager\"]])"
   ]
  },
  {
   "cell_type": "markdown",
   "id": "47242276",
   "metadata": {},
   "source": [
    "# The company needs to check whether there is any dependency between the features “Region” and “Manager”."
   ]
  },
  {
   "cell_type": "code",
   "execution_count": 40,
   "id": "7dff2713",
   "metadata": {},
   "outputs": [
    {
     "data": {
      "text/html": [
       "<div>\n",
       "<style scoped>\n",
       "    .dataframe tbody tr th:only-of-type {\n",
       "        vertical-align: middle;\n",
       "    }\n",
       "\n",
       "    .dataframe tbody tr th {\n",
       "        vertical-align: top;\n",
       "    }\n",
       "\n",
       "    .dataframe thead th {\n",
       "        text-align: right;\n",
       "    }\n",
       "</style>\n",
       "<table border=\"1\" class=\"dataframe\">\n",
       "  <thead>\n",
       "    <tr style=\"text-align: right;\">\n",
       "      <th>Manager</th>\n",
       "      <th>Manager - A</th>\n",
       "      <th>Manager - B</th>\n",
       "      <th>Manager - C</th>\n",
       "    </tr>\n",
       "    <tr>\n",
       "      <th>Region</th>\n",
       "      <th></th>\n",
       "      <th></th>\n",
       "      <th></th>\n",
       "    </tr>\n",
       "  </thead>\n",
       "  <tbody>\n",
       "    <tr>\n",
       "      <th>Region - A</th>\n",
       "      <td>4</td>\n",
       "      <td>3</td>\n",
       "      <td>3</td>\n",
       "    </tr>\n",
       "    <tr>\n",
       "      <th>Region - B</th>\n",
       "      <td>4</td>\n",
       "      <td>1</td>\n",
       "      <td>2</td>\n",
       "    </tr>\n",
       "    <tr>\n",
       "      <th>Region - C</th>\n",
       "      <td>1</td>\n",
       "      <td>3</td>\n",
       "      <td>1</td>\n",
       "    </tr>\n",
       "  </tbody>\n",
       "</table>\n",
       "</div>"
      ],
      "text/plain": [
       "Manager     Manager - A  Manager - B  Manager - C\n",
       "Region                                           \n",
       "Region - A            4            3            3\n",
       "Region - B            4            1            2\n",
       "Region - C            1            3            1"
      ]
     },
     "execution_count": 40,
     "metadata": {},
     "output_type": "execute_result"
    }
   ],
   "source": [
    "crosstab = pd.crosstab(data['Region'],data['Manager'])\n",
    "crosstab"
   ]
  },
  {
   "cell_type": "code",
   "execution_count": 41,
   "id": "f80003c9",
   "metadata": {},
   "outputs": [
    {
     "data": {
      "text/plain": [
       "(3.050566893424036,\n",
       " 0.5493991051158094,\n",
       " 4,\n",
       " array([[4.09090909, 3.18181818, 2.72727273],\n",
       "        [2.86363636, 2.22727273, 1.90909091],\n",
       "        [2.04545455, 1.59090909, 1.36363636]]))"
      ]
     },
     "execution_count": 41,
     "metadata": {},
     "output_type": "execute_result"
    }
   ],
   "source": [
    "stats.chi2_contingency(crosstab)"
   ]
  },
  {
   "cell_type": "code",
   "execution_count": 71,
   "id": "3c78b505",
   "metadata": {},
   "outputs": [
    {
     "data": {
      "text/html": [
       "<div>\n",
       "<style scoped>\n",
       "    .dataframe tbody tr th:only-of-type {\n",
       "        vertical-align: middle;\n",
       "    }\n",
       "\n",
       "    .dataframe tbody tr th {\n",
       "        vertical-align: top;\n",
       "    }\n",
       "\n",
       "    .dataframe thead tr th {\n",
       "        text-align: left;\n",
       "    }\n",
       "\n",
       "    .dataframe thead tr:last-of-type th {\n",
       "        text-align: right;\n",
       "    }\n",
       "</style>\n",
       "<table border=\"1\" class=\"dataframe\">\n",
       "  <thead>\n",
       "    <tr>\n",
       "      <th></th>\n",
       "      <th colspan=\"4\" halign=\"left\">Manager</th>\n",
       "    </tr>\n",
       "    <tr>\n",
       "      <th>Manager</th>\n",
       "      <th>Manager - A</th>\n",
       "      <th>Manager - B</th>\n",
       "      <th>Manager - C</th>\n",
       "      <th>All</th>\n",
       "    </tr>\n",
       "    <tr>\n",
       "      <th>Region</th>\n",
       "      <th></th>\n",
       "      <th></th>\n",
       "      <th></th>\n",
       "      <th></th>\n",
       "    </tr>\n",
       "  </thead>\n",
       "  <tbody>\n",
       "    <tr>\n",
       "      <th>Region - A</th>\n",
       "      <td>18.18</td>\n",
       "      <td>13.64</td>\n",
       "      <td>13.64</td>\n",
       "      <td>45.45</td>\n",
       "    </tr>\n",
       "    <tr>\n",
       "      <th>Region - B</th>\n",
       "      <td>18.18</td>\n",
       "      <td>4.55</td>\n",
       "      <td>9.09</td>\n",
       "      <td>31.82</td>\n",
       "    </tr>\n",
       "    <tr>\n",
       "      <th>Region - C</th>\n",
       "      <td>4.55</td>\n",
       "      <td>13.64</td>\n",
       "      <td>4.55</td>\n",
       "      <td>22.73</td>\n",
       "    </tr>\n",
       "    <tr>\n",
       "      <th>All</th>\n",
       "      <td>40.91</td>\n",
       "      <td>31.82</td>\n",
       "      <td>27.27</td>\n",
       "      <td>100.00</td>\n",
       "    </tr>\n",
       "  </tbody>\n",
       "</table>\n",
       "</div>"
      ],
      "text/plain": [
       "               Manager                                \n",
       "Manager    Manager - A Manager - B Manager - C     All\n",
       "Region                                                \n",
       "Region - A       18.18       13.64       13.64   45.45\n",
       "Region - B       18.18        4.55        9.09   31.82\n",
       "Region - C        4.55       13.64        4.55   22.73\n",
       "All              40.91       31.82       27.27  100.00"
      ]
     },
     "execution_count": 71,
     "metadata": {},
     "output_type": "execute_result"
    }
   ],
   "source": [
    "crosstab, test_results, expected = rp.crosstab(data[\"Region\"], data[\"Manager\"],\n",
    "                                               test= \"chi-square\",\n",
    "                                               expected_freqs= True,\n",
    "                                               prop= \"cell\")\n",
    "crosstab"
   ]
  },
  {
   "cell_type": "code",
   "execution_count": 72,
   "id": "c129cd2a",
   "metadata": {},
   "outputs": [
    {
     "data": {
      "text/html": [
       "<div>\n",
       "<style scoped>\n",
       "    .dataframe tbody tr th:only-of-type {\n",
       "        vertical-align: middle;\n",
       "    }\n",
       "\n",
       "    .dataframe tbody tr th {\n",
       "        vertical-align: top;\n",
       "    }\n",
       "\n",
       "    .dataframe thead th {\n",
       "        text-align: right;\n",
       "    }\n",
       "</style>\n",
       "<table border=\"1\" class=\"dataframe\">\n",
       "  <thead>\n",
       "    <tr style=\"text-align: right;\">\n",
       "      <th></th>\n",
       "      <th>Chi-square test</th>\n",
       "      <th>results</th>\n",
       "    </tr>\n",
       "  </thead>\n",
       "  <tbody>\n",
       "    <tr>\n",
       "      <th>0</th>\n",
       "      <td>Pearson Chi-square ( 4.0) =</td>\n",
       "      <td>3.0506</td>\n",
       "    </tr>\n",
       "    <tr>\n",
       "      <th>1</th>\n",
       "      <td>p-value =</td>\n",
       "      <td>0.5494</td>\n",
       "    </tr>\n",
       "    <tr>\n",
       "      <th>2</th>\n",
       "      <td>Cramer's V =</td>\n",
       "      <td>0.2633</td>\n",
       "    </tr>\n",
       "  </tbody>\n",
       "</table>\n",
       "</div>"
      ],
      "text/plain": [
       "                Chi-square test  results\n",
       "0  Pearson Chi-square ( 4.0) =    3.0506\n",
       "1                    p-value =    0.5494\n",
       "2                 Cramer's V =    0.2633"
      ]
     },
     "execution_count": 72,
     "metadata": {},
     "output_type": "execute_result"
    }
   ],
   "source": [
    "test_results"
   ]
  },
  {
   "cell_type": "code",
   "execution_count": null,
   "id": "b42d60d7",
   "metadata": {},
   "outputs": [],
   "source": []
  }
 ],
 "metadata": {
  "kernelspec": {
   "display_name": "Python 3",
   "language": "python",
   "name": "python3"
  },
  "language_info": {
   "codemirror_mode": {
    "name": "ipython",
    "version": 3
   },
   "file_extension": ".py",
   "mimetype": "text/x-python",
   "name": "python",
   "nbconvert_exporter": "python",
   "pygments_lexer": "ipython3",
   "version": "3.8.8"
  }
 },
 "nbformat": 4,
 "nbformat_minor": 5
}
